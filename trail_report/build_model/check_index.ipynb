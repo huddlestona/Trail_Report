{
 "cells": [
  {
   "cell_type": "code",
   "execution_count": 47,
   "metadata": {},
   "outputs": [
    {
     "name": "stderr",
     "output_type": "stream",
     "text": [
      "[autoreload of make_all_predictions failed: Traceback (most recent call last):\n",
      "  File \"/Users/ashley/anaconda3/lib/python3.6/site-packages/IPython/extensions/autoreload.py\", line 246, in check\n",
      "    superreload(m, reload, self.old_objects)\n",
      "  File \"/Users/ashley/anaconda3/lib/python3.6/site-packages/IPython/extensions/autoreload.py\", line 369, in superreload\n",
      "    module = reload(module)\n",
      "  File \"/Users/ashley/anaconda3/lib/python3.6/imp.py\", line 315, in reload\n",
      "    return importlib.reload(module)\n",
      "  File \"/Users/ashley/anaconda3/lib/python3.6/importlib/__init__.py\", line 166, in reload\n",
      "    _bootstrap._exec(spec, module)\n",
      "  File \"<frozen importlib._bootstrap>\", line 618, in _exec\n",
      "  File \"<frozen importlib._bootstrap_external>\", line 678, in exec_module\n",
      "  File \"<frozen importlib._bootstrap>\", line 219, in _call_with_frames_removed\n",
      "  File \"/Users/ashley/projects/Trail_Report/trail_report/build_model/make_all_predictions.py\", line 2, in <module>\n",
      "    from .knn_model import prep_neighbors, dates_in_circle, prep_for_knn, make_forest\n",
      "ImportError: attempted relative import with no known parent package\n",
      "]\n",
      "[autoreload of get_text failed: Traceback (most recent call last):\n",
      "  File \"/Users/ashley/anaconda3/lib/python3.6/site-packages/IPython/extensions/autoreload.py\", line 246, in check\n",
      "    superreload(m, reload, self.old_objects)\n",
      "  File \"/Users/ashley/anaconda3/lib/python3.6/site-packages/IPython/extensions/autoreload.py\", line 369, in superreload\n",
      "    module = reload(module)\n",
      "  File \"/Users/ashley/anaconda3/lib/python3.6/imp.py\", line 315, in reload\n",
      "    return importlib.reload(module)\n",
      "  File \"/Users/ashley/anaconda3/lib/python3.6/importlib/__init__.py\", line 166, in reload\n",
      "    _bootstrap._exec(spec, module)\n",
      "  File \"<frozen importlib._bootstrap>\", line 618, in _exec\n",
      "  File \"<frozen importlib._bootstrap_external>\", line 678, in exec_module\n",
      "  File \"<frozen importlib._bootstrap>\", line 219, in _call_with_frames_removed\n",
      "  File \"/Users/ashley/projects/Trail_Report/trail_report/build_model/get_text.py\", line 2, in <module>\n",
      "    from .knn_model import prep_neighbors, dates_in_circle\n",
      "ImportError: attempted relative import with no known parent package\n",
      "]\n"
     ]
    }
   ],
   "source": [
    "from make_all_predictions import *"
   ]
  },
  {
   "cell_type": "code",
   "execution_count": 54,
   "metadata": {
    "collapsed": true
   },
   "outputs": [],
   "source": [
    "    hike = 'Mount Rose'\n",
    "    date = '05/22/18'\n",
    "    df_init, df_trail, weather, weather_dist = load_databases()"
   ]
  },
  {
   "cell_type": "code",
   "execution_count": 53,
   "metadata": {},
   "outputs": [
    {
     "name": "stderr",
     "output_type": "stream",
     "text": [
      "/Users/ashley/projects/Trail_Report/trail_report/build_model/make_all_predictions.py:32: SettingWithCopyWarning: \n",
      "A value is trying to be set on a copy of a slice from a DataFrame.\n",
      "Try using .loc[row_indexer,col_indexer] = value instead\n",
      "\n",
      "See the caveats in the documentation: http://pandas.pydata.org/pandas-docs/stable/indexing.html#indexing-view-versus-copy\n",
      "  df, condition, hike, date_stamp)\n",
      "/Users/ashley/projects/Trail_Report/trail_report/build_model/make_all_predictions.py:33: SettingWithCopyWarning: \n",
      "A value is trying to be set on a copy of a slice from a DataFrame.\n",
      "Try using .loc[row_indexer,col_indexer] = value instead\n",
      "\n",
      "See the caveats in the documentation: http://pandas.pydata.org/pandas-docs/stable/indexing.html#indexing-view-versus-copy\n",
      "  hike_df['date'] = date_stamp\n",
      "/Users/ashley/projects/Trail_Report/trail_report/build_model/make_all_predictions.py:34: SettingWithCopyWarning: \n",
      "A value is trying to be set on a copy of a slice from a DataFrame.\n",
      "Try using .loc[row_indexer,col_indexer] = value instead\n",
      "\n",
      "See the caveats in the documentation: http://pandas.pydata.org/pandas-docs/stable/indexing.html#indexing-view-versus-copy\n",
      "  hike_df['month'] = date_stamp.month\n",
      "/Users/ashley/projects/Trail_Report/trail_report/build_model/make_all_predictions.py:35: SettingWithCopyWarning: \n",
      "A value is trying to be set on a copy of a slice from a DataFrame.\n",
      "Try using .loc[row_indexer,col_indexer] = value instead\n",
      "\n",
      "See the caveats in the documentation: http://pandas.pydata.org/pandas-docs/stable/indexing.html#indexing-view-versus-copy\n",
      "  hike_df['year'] = date_stamp.year\n",
      "/Users/ashley/projects/Trail_Report/trail_report/build_model/make_all_predictions.py:36: SettingWithCopyWarning: \n",
      "A value is trying to be set on a copy of a slice from a DataFrame.\n",
      "Try using .loc[row_indexer,col_indexer] = value instead\n",
      "\n",
      "See the caveats in the documentation: http://pandas.pydata.org/pandas-docs/stable/indexing.html#indexing-view-versus-copy\n",
      "  hike_df['last_year'] = date_stamp.year - 1\n",
      "/Users/ashley/projects/Trail_Report/trail_report/build_model/make_all_predictions.py:37: SettingWithCopyWarning: \n",
      "A value is trying to be set on a copy of a slice from a DataFrame.\n",
      "Try using .loc[row_indexer,col_indexer] = value instead\n",
      "\n",
      "See the caveats in the documentation: http://pandas.pydata.org/pandas-docs/stable/indexing.html#indexing-view-versus-copy\n",
      "  hike_df['date_sin'], hike_df['date_cos'] = dates_in_circle(hike_df['date'])\n",
      "/Users/ashley/projects/Trail_Report/trail_report/build_model/merge_weather.py:93: SettingWithCopyWarning: \n",
      "A value is trying to be set on a copy of a slice from a DataFrame.\n",
      "Try using .loc[row_indexer,col_indexer] = value instead\n",
      "\n",
      "See the caveats in the documentation: http://pandas.pydata.org/pandas-docs/stable/indexing.html#indexing-view-versus-copy\n",
      "  df_hike['closet_station'] = closest_station\n",
      "/Users/ashley/projects/Trail_Report/trail_report/build_model/merge_weather.py:94: SettingWithCopyWarning: \n",
      "A value is trying to be set on a copy of a slice from a DataFrame.\n",
      "Try using .loc[row_indexer,col_indexer] = value instead\n",
      "\n",
      "See the caveats in the documentation: http://pandas.pydata.org/pandas-docs/stable/indexing.html#indexing-view-versus-copy\n",
      "  df_hike['station_distance'] = station_distance\n"
     ]
    }
   ],
   "source": [
    "X_test, Text_X_test = get_data(hike, date,df_init, df_trail, weather, weather_dist)"
   ]
  },
  {
   "cell_type": "code",
   "execution_count": 55,
   "metadata": {},
   "outputs": [],
   "source": [
    "tp = TrailPred()"
   ]
  },
  {
   "cell_type": "code",
   "execution_count": 56,
   "metadata": {
    "collapsed": true
   },
   "outputs": [],
   "source": [
    "tp.fit()"
   ]
  },
  {
   "cell_type": "code",
   "execution_count": 57,
   "metadata": {
    "collapsed": true
   },
   "outputs": [],
   "source": [
    "tp.predict_text(Text_X_test)"
   ]
  },
  {
   "cell_type": "code",
   "execution_count": 58,
   "metadata": {
    "collapsed": true
   },
   "outputs": [],
   "source": [
    "tp.get_all_text(df_init)"
   ]
  },
  {
   "cell_type": "code",
   "execution_count": 35,
   "metadata": {},
   "outputs": [
    {
     "data": {
      "text/plain": [
       "{'condition|bugs': array([[ 0.73980066,  0.26019934]]),\n",
       " 'condition|road': array([[ 0.70563579,  0.29436421]]),\n",
       " 'condition|snow': array([[ 0.60672379,  0.39327621]]),\n",
       " 'condition|trail': array([[ 0.56122824,  0.43877176]])}"
      ]
     },
     "execution_count": 35,
     "metadata": {},
     "output_type": "execute_result"
    }
   ],
   "source": [
    "tp.predict(X_test)"
   ]
  },
  {
   "cell_type": "code",
   "execution_count": 59,
   "metadata": {},
   "outputs": [
    {
     "data": {
      "text/plain": [
       "{'condition|bugs': [{'2004-05-23': {'No relevent reports to show at this time!'},\n",
       "   '2010-05-23': {' No bugs yet though'}}],\n",
       " 'condition|road': [{'2004-05-30': {' No snow on the trail at all but still some at the lake basin',\n",
       "    ' They looked a little bewildered at how muddy and wet I was'},\n",
       "   '2010-05-14': {' I think that the road opens \"officially\" on 15 June, but the DNR website is singularly unhelpful on this topic',\n",
       "    'As hikingwithmybrother reported, the road in is closed at Site 3',\n",
       "    'There is no snow at all on the trail and it was sunny and very warm at the lakes'},\n",
       "   '2010-05-17': {'  On the return trip I was forced to the side of the road by a monster dump truck that was so huge that it would have required any other vehicle on the road to back up to a pullout',\n",
       "    \"  That's why the road is closed\",\n",
       "    '  The road is closed at Site 3, which is 1'},\n",
       "   '2010-05-23': {' Quite muddy at times'}}],\n",
       " 'condition|snow': [{'2004-05-07': {' I would recommend finding another way across'},\n",
       "   '2004-05-22': {' There was some mud on the Chybinski trail but overall trail conditions were very good',\n",
       "    'The rain was on and off but not strong enough to hinder a nice walk'},\n",
       "   '2004-05-29': {' For the next few hours we managed (with some freakish luck) to stay on the trail through long stretches of snow and were rewarded with some nice views of the Sloan Creek valley - though the fog definitely cut down on the views of any peaks',\n",
       "    \" From the river's edge, the trail switchbacks quickly up to the ridgeline, then rolls along until deep snow is encountered around 4000 feet\",\n",
       "    ' Looking forward to going back in nicer weather since the views would be pretty spectacular',\n",
       "    ' Really nice ridge-walk',\n",
       "    ' There is a massive logjam across the river, so no fording needed (or even possible this time of year)',\n",
       "    \" We called it quits around 5700' because it was getting late, we were getting tired, and beyond that point the trail appeared completely snowcovered to the PCT junction\",\n",
       "    \" We had snowshoes and ice axes but didn't need them for the 7 miles of trail we covered\",\n",
       "    ' We took a general easterly course and were pleasantly surprised to find the trail (snow free) again atop a narrow ridge',\n",
       "    \"It snowed a little on the way down, but we dodged the rain entirely, and were back at the car around 8:30, exhausted and ready for a chicken strip dinner at Denny's\"},\n",
       "   '2004-05-30': {' Contrary to the most recent Trail report by NOCA posted below, the trail was not snow free to the summit nor fully logged out',\n",
       "    ' However, the snow that was present was not difficult to cross',\n",
       "    ' I did not hike beyond the pass, but looking toward Juanita Lake, it appeared that the lake and campground were most likely still under snow',\n",
       "    \" I encountered patchy snow on the trail at 5900'\",\n",
       "    ' Recommend ice ax',\n",
       "    ' The trail to Boulder Butte likewise was under patchy snow'},\n",
       "   '2010-05-15': {'This is just an update about road conditions'}}],\n",
       " 'condition|trail': [{'2004-05-22': {' The West Peak of Squak is not an easy trail although very short',\n",
       "    ' The trail to the view is unmarked but off the parameter loop about 1/8 of a mile from where West Peak meets with the Chybinski trail',\n",
       "    ' The trails on this part of Squak are mostly abandoned roads and were in good shape',\n",
       "    ' There was some mud on the Chybinski trail but overall trail conditions were very good',\n",
       "    'Our group, lead by Steve, left the Mountain Side Drive trail head at about 9:30 with the goal of going over the West Peak of Squak and then down the Chybinski trail to loop back to our transportation',\n",
       "    'The rain was on and off but not strong enough to hinder a nice walk'},\n",
       "   '2004-05-23': {' Poles or an ice axe came in handy',\n",
       "    ' Steady snow for the last steep mile or so, providing a great opportunity for some glissading on the way down',\n",
       "    'Started on the trail under clear skies, which quickly changed to a downpour about halfway up the trail, then lightened up a bit'},\n",
       "   '2010-05-14': {\"  I continued up the trail to the trail's end\",\n",
       "    '  I didn\\'t see any \"unofficial\" trail continuing up the basin, but then again everything was snow covered',\n",
       "    '  I encountered snow in patches well before the trail end, and at 3,000 feet pretty much the entire ground was snow covered',\n",
       "    \"  It's not well maintained at all, and has many blowdowns and a couple washouts, where the nearby river has washed away the river bank and trail\",\n",
       "    '  Luckily, this is also the end of the official trail',\n",
       "    '  The only person I ever saw above Lillian Camp was a trail crew cutting out two 6 foot diameter blow downs (thank you trail crew)',\n",
       "    '  The trail is smaller than the main trail, so it feels more intimate, getting closer to the forest',\n",
       "    '  The trees that line the trail around Hayes River a quite large, beautifully tall douglas firs',\n",
       "    '  This trail has a different character',\n",
       "    'I left the Elwha River at Chicago Camp and headed up the Elwha Basin trail',\n",
       "    'The Elwha River trail is a thoroughfare for hikers, so it is very well maintained',\n",
       "    \"The ford of the Elwha River was most memorable, not for being a difficult ford (knee deep), but for the cold water (snow melt) and the width of the river at the ford, which left my feet hurt'n (like brain freeze after eating ice cream too fast)\"},\n",
       "   '2010-05-23': {\" Flowers lined the trail most of the way--wild geranium, spring beauty, fringecup, youth-on-age, foamflower, false Solomon's seal,larkspur, naked broomrape, orange paintbrush, to name a few\",\n",
       "    \" Near the beginning of the trail was a beautiful mushroom we're hoping someone can name for us\",\n",
       "    '5 miles the trail crosses Hughes Creek on a sturdy log with a handrail',\n",
       "    'The trail begins behind Site 15 in the Altair CG which was closed today'},\n",
       "   '2010-05-30': {'  At the top, beware of cornices and make sure there is rock underneath the snow you are stepping on',\n",
       "    '  Get up and over that little hill and stay to the left a bit because there is a massive deadly cornice on the right',\n",
       "    ' Take your time because the mud gets slippery in some spots',\n",
       "    ' Use tree trunks and branches to help pull yourself along',\n",
       "    ' Watch for holes through the snow',\n",
       "    ' We self belayed with our ice axes up',\n",
       "    'So the route follows the overgrown road to the right of the Barclay lake trail'}}]}"
      ]
     },
     "execution_count": 59,
     "metadata": {},
     "output_type": "execute_result"
    }
   ],
   "source": [
    "tp.all_text"
   ]
  },
  {
   "cell_type": "code",
   "execution_count": 11,
   "metadata": {},
   "outputs": [
    {
     "data": {
      "text/plain": [
       "142"
      ]
     },
     "execution_count": 11,
     "metadata": {},
     "output_type": "execute_result"
    }
   ],
   "source": [
    "len(tp.actual_cols)"
   ]
  },
  {
   "cell_type": "code",
   "execution_count": 43,
   "metadata": {
    "collapsed": true
   },
   "outputs": [],
   "source": [
    "def get_relivant_text(reports):\n",
    "    returns = ''\n",
    "    for group in reports:\n",
    "        for year,parts in group.items():\n",
    "            returns += f\"On {year} Reports say: \\n \\n\"\n",
    "            for sent in parts:\n",
    "                returns += u'\\u2022 '\n",
    "                returns += sent\n",
    "                returns += '\\n'\n",
    "            returns += '\\n'\n",
    "    return returns"
   ]
  },
  {
   "cell_type": "code",
   "execution_count": 41,
   "metadata": {
    "collapsed": true
   },
   "outputs": [],
   "source": [
    "def _get_prediction(tp, X_test, Test_X_text, df_init):\n",
    "    pred = tp.predict(X_test)\n",
    "    tp.predict_text(Text_X_test)\n",
    "    tp.get_all_text(df_init)\n",
    "    snow_text = get_relivant_text(tp.all_text['condition|snow'])\n",
    "    trail_text = get_relivant_text(tp.all_text['condition|trail'])\n",
    "    bugs_text= get_relivant_text(tp.all_text['condition|bugs'])\n",
    "    road_text = get_relivant_text(tp.all_text['condition|road'])\n",
    "    return (\"{0:.0f}%\".format(float(pred['condition|snow'][:, 1][0]) * 100),\n",
    "            \"{0:.0f}%\".format(float(pred['condition|trail'][:, 1][0]) * 100),\n",
    "            \"{0:.0f}%\".format(float(pred['condition|bugs'][:, 1][0]) * 100),\n",
    "            \"{0:.0f}%\".format(float(pred['condition|road'][:, 1][0]) * 100),\n",
    "            snow_text, trail_text, bugs_text, road_text\n",
    "            )"
   ]
  },
  {
   "cell_type": "code",
   "execution_count": 44,
   "metadata": {},
   "outputs": [
    {
     "data": {
      "text/plain": [
       "('39%',\n",
       " '44%',\n",
       " '26%',\n",
       " '29%',\n",
       " \"On 2004-05-30 Reports say: \\n \\n•  The trail to Boulder Butte likewise was under patchy snow\\n•  I did not hike beyond the pass, but looking toward Juanita Lake, it appeared that the lake and campground were most likely still under snow\\n•  Recommend ice ax\\n•  Contrary to the most recent Trail report by NOCA posted below, the trail was not snow free to the summit nor fully logged out\\n•  However, the snow that was present was not difficult to cross\\n•  I encountered patchy snow on the trail at 5900'\\n\\nOn 2004-05-22 Reports say: \\n \\n•  There was some mud on the Chybinski trail but overall trail conditions were very good\\n• The rain was on and off but not strong enough to hinder a nice walk\\n\\nOn 2010-05-15 Reports say: \\n \\n• This is just an update about road conditions\\n\\nOn 2004-05-07 Reports say: \\n \\n•  I would recommend finding another way across\\n\\nOn 2004-05-29 Reports say: \\n \\n•  We had snowshoes and ice axes but didn't need them for the 7 miles of trail we covered\\n•  From the river's edge, the trail switchbacks quickly up to the ridgeline, then rolls along until deep snow is encountered around 4000 feet\\n•  We took a general easterly course and were pleasantly surprised to find the trail (snow free) again atop a narrow ridge\\n• It snowed a little on the way down, but we dodged the rain entirely, and were back at the car around 8:30, exhausted and ready for a chicken strip dinner at Denny's\\n•  We called it quits around 5700' because it was getting late, we were getting tired, and beyond that point the trail appeared completely snowcovered to the PCT junction\\n•  Looking forward to going back in nicer weather since the views would be pretty spectacular\\n•  Really nice ridge-walk\\n•  For the next few hours we managed (with some freakish luck) to stay on the trail through long stretches of snow and were rewarded with some nice views of the Sloan Creek valley - though the fog definitely cut down on the views of any peaks\\n•  There is a massive logjam across the river, so no fording needed (or even possible this time of year)\\n\\n\",\n",
       " 'On 2004-05-23 Reports say: \\n \\n• Started on the trail under clear skies, which quickly changed to a downpour about halfway up the trail, then lightened up a bit\\n•  Poles or an ice axe came in handy\\n•  Steady snow for the last steep mile or so, providing a great opportunity for some glissading on the way down\\n\\nOn 2010-05-23 Reports say: \\n \\n• The trail begins behind Site 15 in the Altair CG which was closed today\\n•  Near the beginning of the trail was a beautiful mushroom we\\'re hoping someone can name for us\\n•  Flowers lined the trail most of the way--wild geranium, spring beauty, fringecup, youth-on-age, foamflower, false Solomon\\'s seal,larkspur, naked broomrape, orange paintbrush, to name a few\\n• 5 miles the trail crosses Hughes Creek on a sturdy log with a handrail\\n\\nOn 2010-05-30 Reports say: \\n \\n•  Use tree trunks and branches to help pull yourself along\\n•   Get up and over that little hill and stay to the left a bit because there is a massive deadly cornice on the right\\n•  Take your time because the mud gets slippery in some spots\\n•  Watch for holes through the snow\\n•  We self belayed with our ice axes up\\n•   At the top, beware of cornices and make sure there is rock underneath the snow you are stepping on\\n• So the route follows the overgrown road to the right of the Barclay lake trail\\n\\nOn 2004-05-22 Reports say: \\n \\n•  There was some mud on the Chybinski trail but overall trail conditions were very good\\n•  The West Peak of Squak is not an easy trail although very short\\n•  The trail to the view is unmarked but off the parameter loop about 1/8 of a mile from where West Peak meets with the Chybinski trail\\n• Our group, lead by Steve, left the Mountain Side Drive trail head at about 9:30 with the goal of going over the West Peak of Squak and then down the Chybinski trail to loop back to our transportation\\n•  The trails on this part of Squak are mostly abandoned roads and were in good shape\\n• The rain was on and off but not strong enough to hinder a nice walk\\n\\nOn 2010-05-14 Reports say: \\n \\n• The ford of the Elwha River was most memorable, not for being a difficult ford (knee deep), but for the cold water (snow melt) and the width of the river at the ford, which left my feet hurt\\'n (like brain freeze after eating ice cream too fast)\\n•   The only person I ever saw above Lillian Camp was a trail crew cutting out two 6 foot diameter blow downs (thank you trail crew)\\n•   The trees that line the trail around Hayes River a quite large, beautifully tall douglas firs\\n• I left the Elwha River at Chicago Camp and headed up the Elwha Basin trail\\n•   I continued up the trail to the trail\\'s end\\n•   Luckily, this is also the end of the official trail\\n•   It\\'s not well maintained at all, and has many blowdowns and a couple washouts, where the nearby river has washed away the river bank and trail\\n•   This trail has a different character\\n•   The trail is smaller than the main trail, so it feels more intimate, getting closer to the forest\\n•   I encountered snow in patches well before the trail end, and at 3,000 feet pretty much the entire ground was snow covered\\n•   I didn\\'t see any \"unofficial\" trail continuing up the basin, but then again everything was snow covered\\n• The Elwha River trail is a thoroughfare for hikers, so it is very well maintained\\n\\n',\n",
       " 'On 2010-05-23 Reports say: \\n \\n•  No bugs yet though\\n\\nOn 2004-05-23 Reports say: \\n \\n• No relevent reports to show at this time!\\n\\n',\n",
       " 'On 2010-05-23 Reports say: \\n \\n•  Quite muddy at times\\n\\nOn 2010-05-17 Reports say: \\n \\n•   That\\'s why the road is closed\\n•   The road is closed at Site 3, which is 1\\n•   On the return trip I was forced to the side of the road by a monster dump truck that was so huge that it would have required any other vehicle on the road to back up to a pullout\\n\\nOn 2004-05-30 Reports say: \\n \\n•  No snow on the trail at all but still some at the lake basin\\n•  They looked a little bewildered at how muddy and wet I was\\n\\nOn 2010-05-14 Reports say: \\n \\n• There is no snow at all on the trail and it was sunny and very warm at the lakes\\n•  I think that the road opens \"officially\" on 15 June, but the DNR website is singularly unhelpful on this topic\\n• As hikingwithmybrother reported, the road in is closed at Site 3\\n\\n')"
      ]
     },
     "execution_count": 44,
     "metadata": {},
     "output_type": "execute_result"
    }
   ],
   "source": [
    "_get_prediction(tp, X_test, Text_X_test, df_init)"
   ]
  },
  {
   "cell_type": "code",
   "execution_count": 45,
   "metadata": {
    "collapsed": true
   },
   "outputs": [],
   "source": [
    "def solve():\n",
    "    snow_prob, trail_prob, bugs_prob, road_prob, snow_text, trail_text, bugs_text, road_text= _get_prediction(tp, X_test, Text_X_test, df_init)\n",
    "    return snow_prob,trail_prob,bugs_prob,road_prob,print(snow_text),print(trail_text),print(bugs_text),print(road_text)"
   ]
  },
  {
   "cell_type": "code",
   "execution_count": 46,
   "metadata": {},
   "outputs": [
    {
     "name": "stdout",
     "output_type": "stream",
     "text": [
      "On 2004-05-30 Reports say: \n",
      " \n",
      "•  The trail to Boulder Butte likewise was under patchy snow\n",
      "•  I did not hike beyond the pass, but looking toward Juanita Lake, it appeared that the lake and campground were most likely still under snow\n",
      "•  Recommend ice ax\n",
      "•  Contrary to the most recent Trail report by NOCA posted below, the trail was not snow free to the summit nor fully logged out\n",
      "•  However, the snow that was present was not difficult to cross\n",
      "•  I encountered patchy snow on the trail at 5900'\n",
      "\n",
      "On 2004-05-22 Reports say: \n",
      " \n",
      "•  There was some mud on the Chybinski trail but overall trail conditions were very good\n",
      "• The rain was on and off but not strong enough to hinder a nice walk\n",
      "\n",
      "On 2010-05-15 Reports say: \n",
      " \n",
      "• This is just an update about road conditions\n",
      "\n",
      "On 2004-05-07 Reports say: \n",
      " \n",
      "•  I would recommend finding another way across\n",
      "\n",
      "On 2004-05-29 Reports say: \n",
      " \n",
      "•  We had snowshoes and ice axes but didn't need them for the 7 miles of trail we covered\n",
      "•  From the river's edge, the trail switchbacks quickly up to the ridgeline, then rolls along until deep snow is encountered around 4000 feet\n",
      "•  We took a general easterly course and were pleasantly surprised to find the trail (snow free) again atop a narrow ridge\n",
      "• It snowed a little on the way down, but we dodged the rain entirely, and were back at the car around 8:30, exhausted and ready for a chicken strip dinner at Denny's\n",
      "•  We called it quits around 5700' because it was getting late, we were getting tired, and beyond that point the trail appeared completely snowcovered to the PCT junction\n",
      "•  Looking forward to going back in nicer weather since the views would be pretty spectacular\n",
      "•  Really nice ridge-walk\n",
      "•  For the next few hours we managed (with some freakish luck) to stay on the trail through long stretches of snow and were rewarded with some nice views of the Sloan Creek valley - though the fog definitely cut down on the views of any peaks\n",
      "•  There is a massive logjam across the river, so no fording needed (or even possible this time of year)\n",
      "\n",
      "\n",
      "On 2004-05-23 Reports say: \n",
      " \n",
      "• Started on the trail under clear skies, which quickly changed to a downpour about halfway up the trail, then lightened up a bit\n",
      "•  Poles or an ice axe came in handy\n",
      "•  Steady snow for the last steep mile or so, providing a great opportunity for some glissading on the way down\n",
      "\n",
      "On 2010-05-23 Reports say: \n",
      " \n",
      "• The trail begins behind Site 15 in the Altair CG which was closed today\n",
      "•  Near the beginning of the trail was a beautiful mushroom we're hoping someone can name for us\n",
      "•  Flowers lined the trail most of the way--wild geranium, spring beauty, fringecup, youth-on-age, foamflower, false Solomon's seal,larkspur, naked broomrape, orange paintbrush, to name a few\n",
      "• 5 miles the trail crosses Hughes Creek on a sturdy log with a handrail\n",
      "\n",
      "On 2010-05-30 Reports say: \n",
      " \n",
      "•  Use tree trunks and branches to help pull yourself along\n",
      "•   Get up and over that little hill and stay to the left a bit because there is a massive deadly cornice on the right\n",
      "•  Take your time because the mud gets slippery in some spots\n",
      "•  Watch for holes through the snow\n",
      "•  We self belayed with our ice axes up\n",
      "•   At the top, beware of cornices and make sure there is rock underneath the snow you are stepping on\n",
      "• So the route follows the overgrown road to the right of the Barclay lake trail\n",
      "\n",
      "On 2004-05-22 Reports say: \n",
      " \n",
      "•  There was some mud on the Chybinski trail but overall trail conditions were very good\n",
      "•  The West Peak of Squak is not an easy trail although very short\n",
      "•  The trail to the view is unmarked but off the parameter loop about 1/8 of a mile from where West Peak meets with the Chybinski trail\n",
      "• Our group, lead by Steve, left the Mountain Side Drive trail head at about 9:30 with the goal of going over the West Peak of Squak and then down the Chybinski trail to loop back to our transportation\n",
      "•  The trails on this part of Squak are mostly abandoned roads and were in good shape\n",
      "• The rain was on and off but not strong enough to hinder a nice walk\n",
      "\n",
      "On 2010-05-14 Reports say: \n",
      " \n",
      "• The ford of the Elwha River was most memorable, not for being a difficult ford (knee deep), but for the cold water (snow melt) and the width of the river at the ford, which left my feet hurt'n (like brain freeze after eating ice cream too fast)\n",
      "•   The only person I ever saw above Lillian Camp was a trail crew cutting out two 6 foot diameter blow downs (thank you trail crew)\n",
      "•   The trees that line the trail around Hayes River a quite large, beautifully tall douglas firs\n",
      "• I left the Elwha River at Chicago Camp and headed up the Elwha Basin trail\n",
      "•   I continued up the trail to the trail's end\n",
      "•   Luckily, this is also the end of the official trail\n",
      "•   It's not well maintained at all, and has many blowdowns and a couple washouts, where the nearby river has washed away the river bank and trail\n",
      "•   This trail has a different character\n",
      "•   The trail is smaller than the main trail, so it feels more intimate, getting closer to the forest\n",
      "•   I encountered snow in patches well before the trail end, and at 3,000 feet pretty much the entire ground was snow covered\n",
      "•   I didn't see any \"unofficial\" trail continuing up the basin, but then again everything was snow covered\n",
      "• The Elwha River trail is a thoroughfare for hikers, so it is very well maintained\n",
      "\n",
      "\n",
      "On 2010-05-23 Reports say: \n",
      " \n",
      "•  No bugs yet though\n",
      "\n",
      "On 2004-05-23 Reports say: \n",
      " \n",
      "• No relevent reports to show at this time!\n",
      "\n",
      "\n",
      "On 2010-05-23 Reports say: \n",
      " \n",
      "•  Quite muddy at times\n",
      "\n",
      "On 2010-05-17 Reports say: \n",
      " \n",
      "•   That's why the road is closed\n",
      "•   The road is closed at Site 3, which is 1\n",
      "•   On the return trip I was forced to the side of the road by a monster dump truck that was so huge that it would have required any other vehicle on the road to back up to a pullout\n",
      "\n",
      "On 2004-05-30 Reports say: \n",
      " \n",
      "•  No snow on the trail at all but still some at the lake basin\n",
      "•  They looked a little bewildered at how muddy and wet I was\n",
      "\n",
      "On 2010-05-14 Reports say: \n",
      " \n",
      "• There is no snow at all on the trail and it was sunny and very warm at the lakes\n",
      "•  I think that the road opens \"officially\" on 15 June, but the DNR website is singularly unhelpful on this topic\n",
      "• As hikingwithmybrother reported, the road in is closed at Site 3\n",
      "\n",
      "\n"
     ]
    },
    {
     "data": {
      "text/plain": [
       "('39%', '44%', '26%', '29%', None, None, None, None)"
      ]
     },
     "execution_count": 46,
     "metadata": {},
     "output_type": "execute_result"
    }
   ],
   "source": [
    "solve()"
   ]
  },
  {
   "cell_type": "code",
   "execution_count": 12,
   "metadata": {
    "collapsed": true
   },
   "outputs": [],
   "source": [
    "X_train_all = pd.read_csv(\n",
    "            '../../data/Xall.csv',\n",
    "            sep='|',\n",
    "            lineterminator='\\n')"
   ]
  },
  {
   "cell_type": "code",
   "execution_count": 13,
   "metadata": {
    "collapsed": true
   },
   "outputs": [],
   "source": [
    "X_train = X_train_all.drop(['DX90', 'FZF4', 'FZF3', ' Snoqualmie Pass', 'Waterfalls', 'FZF1', 'FZF8', 'FZF6', 'None', 'Sno-Parks Permit', 'Dogs not allowed', 'FZF0', 'FZF5', 'National Park Pass', 'Discover Pass', 'NaN', ' North Bend Area', ' Salmon La Sac/Teanaway', 'Coast', ' Chinook Pass - Hwy 410', ' SW - Longmire/Paradise', ' Mountain Loop Highway', ' Hood Canal', ' NE - Sunrise/White River', ' Mount Baker Area', ' Stevens Pass - West', ' Stevens Pass - East', ' North Cascades Highway - Hwy 20', \" SE - Cayuse Pass/Steven's Canyon\", ' Mount Adams Area', ' Leavenworth Area', ' Mount St. Helens', ' Northern Coast', ' White Pass/Cowlitz River Valley', 'WSF5', 'WDF5', 'WDF2', ' Goat Rocks', 'WSF2', 'AWND', ' Yakima', ' Seattle-Tacoma Area', ' Columbia River Gorge - WA', ' Blewett Pass', ' Pacific Coast', ' Methow/Sawtooth', ' Olympia', ' Lewis River Region', ' Tiger Mountain', ' Bellingham Area', ' Entiat Mountains/Lake Chelan', ' Pasayten', \" Spokane Area/Coeur d'Alene\", ' Dark Divide', ' Columbia River Gorge - OR', 'Wilderness permit. Self-issue at trailhead (no fee)', ' Wenatchee', 'National Monument Fee', 'Discover Pass, Sno-Parks Permit', ' Okanogan Highlands/Kettle River Range', 'National Monument Fee, Sno-Parks Permit', ' Palouse and Blue Mountains', ' Selkirk Range', ' Cougar Mountain', ' Squak Mountain', ' Tri-Cities', ' Kitsap Peninsula', ' Grand Coulee', 'None, Northwest Forest Pass', 'Refuge Entrance Pass', ' Potholes Region', ' Cle Elum Area', ' Whidbey Island', ' San Juan Islands', ' Long Beach Area', ' Vancouver Area', 'Oregon State Parks Day-Use', ' Orcas Island', 'Fall foilage', 'Backcountry camping permit. Register in person at ranger station (no fee)', 'Northwest Forest Pass, Sno-Parks Permit', 'PSUN', 'WDMV'],\n",
    "                                axis=1)"
   ]
  },
  {
   "cell_type": "code",
   "execution_count": 17,
   "metadata": {},
   "outputs": [
    {
     "data": {
      "text/plain": [
       "array([ True,  True,  True,  True,  True,  True,  True,  True,  True,\n",
       "        True,  True,  True,  True,  True,  True,  True,  True,  True,\n",
       "        True,  True,  True,  True,  True,  True,  True,  True,  True,\n",
       "        True,  True,  True,  True,  True,  True,  True,  True,  True,\n",
       "        True,  True,  True,  True,  True,  True,  True,  True,  True,\n",
       "        True,  True,  True,  True,  True,  True,  True,  True,  True,\n",
       "        True,  True,  True,  True,  True,  True,  True,  True,  True,\n",
       "        True,  True,  True,  True,  True,  True,  True,  True,  True,\n",
       "        True,  True,  True,  True,  True,  True,  True,  True,  True,\n",
       "        True,  True,  True,  True,  True,  True,  True,  True,  True,\n",
       "        True,  True,  True,  True,  True,  True,  True,  True,  True,\n",
       "        True,  True,  True,  True,  True,  True,  True,  True,  True,\n",
       "        True,  True,  True,  True,  True,  True,  True,  True,  True,\n",
       "        True,  True,  True,  True,  True,  True,  True,  True,  True,\n",
       "        True,  True,  True,  True,  True,  True,  True,  True,  True,\n",
       "        True,  True,  True,  True,  True,  True,  True], dtype=bool)"
      ]
     },
     "execution_count": 17,
     "metadata": {},
     "output_type": "execute_result"
    }
   ],
   "source": [
    "tp.actual_cols == X_train_all.columns"
   ]
  },
  {
   "cell_type": "code",
   "execution_count": 15,
   "metadata": {},
   "outputs": [
    {
     "data": {
      "text/plain": [
       "142"
      ]
     },
     "execution_count": 15,
     "metadata": {},
     "output_type": "execute_result"
    }
   ],
   "source": [
    "len(X_train_all.columns)"
   ]
  },
  {
   "cell_type": "code",
   "execution_count": 27,
   "metadata": {},
   "outputs": [
    {
     "ename": "ValueError",
     "evalue": "Arrays were different lengths: 59 vs 142",
     "output_type": "error",
     "traceback": [
      "\u001b[0;31m---------------------------------------------------------------------------\u001b[0m",
      "\u001b[0;31mValueError\u001b[0m                                Traceback (most recent call last)",
      "\u001b[0;32m<ipython-input-27-c2a26aced88e>\u001b[0m in \u001b[0;36m<module>\u001b[0;34m()\u001b[0m\n\u001b[0;32m----> 1\u001b[0;31m \u001b[0mtp\u001b[0m\u001b[0;34m.\u001b[0m\u001b[0mactual_cols\u001b[0m \u001b[0;34m==\u001b[0m \u001b[0mX_train\u001b[0m\u001b[0;34m.\u001b[0m\u001b[0mcolumns\u001b[0m\u001b[0;34m\u001b[0m\u001b[0m\n\u001b[0m",
      "\u001b[0;32m~/anaconda3/lib/python3.6/site-packages/pandas/core/indexes/base.py\u001b[0m in \u001b[0;36m_evaluate_compare\u001b[0;34m(self, other)\u001b[0m\n\u001b[1;32m   3841\u001b[0m                     \u001b[0;32mwith\u001b[0m \u001b[0mnp\u001b[0m\u001b[0;34m.\u001b[0m\u001b[0merrstate\u001b[0m\u001b[0;34m(\u001b[0m\u001b[0mall\u001b[0m\u001b[0;34m=\u001b[0m\u001b[0;34m'ignore'\u001b[0m\u001b[0;34m)\u001b[0m\u001b[0;34m:\u001b[0m\u001b[0;34m\u001b[0m\u001b[0m\n\u001b[1;32m   3842\u001b[0m                         result = _comp_method_OBJECT_ARRAY(\n\u001b[0;32m-> 3843\u001b[0;31m                             op, self.values, other)\n\u001b[0m\u001b[1;32m   3844\u001b[0m                 \u001b[0;32melse\u001b[0m\u001b[0;34m:\u001b[0m\u001b[0;34m\u001b[0m\u001b[0m\n\u001b[1;32m   3845\u001b[0m                     \u001b[0;32mwith\u001b[0m \u001b[0mnp\u001b[0m\u001b[0;34m.\u001b[0m\u001b[0merrstate\u001b[0m\u001b[0;34m(\u001b[0m\u001b[0mall\u001b[0m\u001b[0;34m=\u001b[0m\u001b[0;34m'ignore'\u001b[0m\u001b[0;34m)\u001b[0m\u001b[0;34m:\u001b[0m\u001b[0;34m\u001b[0m\u001b[0m\n",
      "\u001b[0;32m~/anaconda3/lib/python3.6/site-packages/pandas/core/ops.py\u001b[0m in \u001b[0;36m_comp_method_OBJECT_ARRAY\u001b[0;34m(op, x, y)\u001b[0m\n\u001b[1;32m    759\u001b[0m             \u001b[0my\u001b[0m \u001b[0;34m=\u001b[0m \u001b[0my\u001b[0m\u001b[0;34m.\u001b[0m\u001b[0mvalues\u001b[0m\u001b[0;34m\u001b[0m\u001b[0m\n\u001b[1;32m    760\u001b[0m \u001b[0;34m\u001b[0m\u001b[0m\n\u001b[0;32m--> 761\u001b[0;31m         \u001b[0mresult\u001b[0m \u001b[0;34m=\u001b[0m \u001b[0mlib\u001b[0m\u001b[0;34m.\u001b[0m\u001b[0mvec_compare\u001b[0m\u001b[0;34m(\u001b[0m\u001b[0mx\u001b[0m\u001b[0;34m,\u001b[0m \u001b[0my\u001b[0m\u001b[0;34m,\u001b[0m \u001b[0mop\u001b[0m\u001b[0;34m)\u001b[0m\u001b[0;34m\u001b[0m\u001b[0m\n\u001b[0m\u001b[1;32m    762\u001b[0m     \u001b[0;32melse\u001b[0m\u001b[0;34m:\u001b[0m\u001b[0;34m\u001b[0m\u001b[0m\n\u001b[1;32m    763\u001b[0m         \u001b[0mresult\u001b[0m \u001b[0;34m=\u001b[0m \u001b[0mlib\u001b[0m\u001b[0;34m.\u001b[0m\u001b[0mscalar_compare\u001b[0m\u001b[0;34m(\u001b[0m\u001b[0mx\u001b[0m\u001b[0;34m,\u001b[0m \u001b[0my\u001b[0m\u001b[0;34m,\u001b[0m \u001b[0mop\u001b[0m\u001b[0;34m)\u001b[0m\u001b[0;34m\u001b[0m\u001b[0m\n",
      "\u001b[0;32mpandas/_libs/lib.pyx\u001b[0m in \u001b[0;36mpandas._libs.lib.vec_compare\u001b[0;34m()\u001b[0m\n",
      "\u001b[0;31mValueError\u001b[0m: Arrays were different lengths: 59 vs 142"
     ]
    }
   ],
   "source": [
    "tp.actual_cols == X_train.columns"
   ]
  },
  {
   "cell_type": "code",
   "execution_count": 25,
   "metadata": {},
   "outputs": [
    {
     "data": {
      "text/plain": [
       "Index(['date_sin', 'date_cos', 'Established campsites', 'Good for kids',\n",
       "       'Lakes', 'Mountain views', 'Old growth', 'Ridges/passes', 'Rivers',\n",
       "       'Summits', 'Wildflowers/Meadows', 'Wildlife', 'elevation_gain',\n",
       "       'highest_point', 'lat', 'long', 'numReports', 'number_votes',\n",
       "       'total_distance', 'stars', 'Northwest Forest Pass',\n",
       "       ' NW - Carbon River/Mowich', 'distance_from_median',\n",
       "       'neighbors_average condition|snow', 'neighbors_average condition|trail',\n",
       "       'neighbors_average condition|bugs', 'neighbors_average condition|road',\n",
       "       'station_distance', 'LATITUDE', 'LONGITUDE', 'ELEVATION', 'CDSD',\n",
       "       'CLDD', 'DP01', 'DP10', 'DSND', 'DSNW', 'DT00', 'DT32', 'DX32', 'DX70',\n",
       "       'EMNT', 'EMSD', 'EMSN', 'EMXP', 'EMXT', 'FZF2', 'FZF7', 'FZF9', 'HDSD',\n",
       "       'HTDD', 'PRCP', 'SNOW', 'TAVG', 'TMAX', 'TMIN', 'TSUN', 'WDFG', 'WSFG'],\n",
       "      dtype='object')"
      ]
     },
     "execution_count": 25,
     "metadata": {},
     "output_type": "execute_result"
    }
   ],
   "source": [
    "X_train.columns"
   ]
  },
  {
   "cell_type": "code",
   "execution_count": 23,
   "metadata": {},
   "outputs": [
    {
     "data": {
      "text/plain": [
       "Index(['Established campsites', 'Good for kids', 'Lakes', 'Mountain views',\n",
       "       'Old growth', 'Ridges/passes', 'Rivers', 'Summits',\n",
       "       'Wildflowers/Meadows', 'Wildlife', 'elevation_gain', 'highest_point',\n",
       "       'lat', 'long', 'numReports', 'number_votes', 'total_distance', 'stars',\n",
       "       'Northwest Forest Pass', ' NW - Carbon River/Mowich',\n",
       "       'distance_from_median', 'neighbors_average condition|snow',\n",
       "       'neighbors_average condition|trail', 'neighbors_average condition|bugs',\n",
       "       'neighbors_average condition|road', 'date_sin', 'date_cos',\n",
       "       'station_distance', 'LATITUDE', 'LONGITUDE', 'ELEVATION', 'CDSD',\n",
       "       'CLDD', 'DP01', 'DP10', 'DSND', 'DSNW', 'DT00', 'DT32', 'DX32', 'DX70',\n",
       "       'EMNT', 'EMSD', 'EMSN', 'EMXP', 'EMXT', 'FZF2', 'FZF7', 'FZF9', 'HDSD',\n",
       "       'HTDD', 'PRCP', 'SNOW', 'TAVG', 'TMAX', 'TMIN', 'TSUN', 'WDFG', 'WSFG'],\n",
       "      dtype='object')"
      ]
     },
     "execution_count": 23,
     "metadata": {},
     "output_type": "execute_result"
    }
   ],
   "source": [
    "X_test.columns"
   ]
  },
  {
   "cell_type": "code",
   "execution_count": 7,
   "metadata": {
    "scrolled": true
   },
   "outputs": [
    {
     "ename": "KeyError",
     "evalue": "'[\\'Coast\\' \\'Dogs not allowed\\' \\'Fall foilage\\' \\'Waterfalls\\'\\n \\'Backcountry camping permit. Register in person at ranger station (no fee)\\'\\n \\'Discover Pass\\' \\'Discover Pass, Sno-Parks Permit\\' \\'National Monument Fee\\'\\n \\'National Monument Fee, Sno-Parks Permit\\' \\'National Park Pass\\' \\'None\\'\\n \\'None, Northwest Forest Pass\\' \\'Northwest Forest Pass, Sno-Parks Permit\\'\\n \\'Oregon State Parks Day-Use\\' \\'Refuge Entrance Pass\\' \\'Sno-Parks Permit\\'\\n \\'Wilderness permit. Self-issue at trailhead (no fee)\\' \\' Bellingham Area\\'\\n \\' Blewett Pass\\' \\' Chinook Pass - Hwy 410\\' \\' Cle Elum Area\\'\\n \\' Columbia River Gorge - OR\\' \\' Columbia River Gorge - WA\\'\\n \\' Cougar Mountain\\' \\' Dark Divide\\' \\' Entiat Mountains/Lake Chelan\\'\\n \\' Goat Rocks\\' \\' Grand Coulee\\' \\' Hood Canal\\' \\' Kitsap Peninsula\\'\\n \\' Leavenworth Area\\' \\' Lewis River Region\\' \\' Long Beach Area\\'\\n \\' Methow/Sawtooth\\' \\' Mount Adams Area\\' \\' Mount Baker Area\\'\\n \\' Mount St. Helens\\' \\' Mountain Loop Highway\\' \\' NE - Sunrise/White River\\'\\n \\' North Bend Area\\' \\' North Cascades Highway - Hwy 20\\' \\' Northern Coast\\'\\n \\' Okanogan Highlands/Kettle River Range\\' \\' Olympia\\' \\' Orcas Island\\'\\n \\' Pacific Coast\\' \\' Palouse and Blue Mountains\\' \\' Pasayten\\'\\n \\' Potholes Region\\' \" SE - Cayuse Pass/Steven\\'s Canyon\"\\n \\' SW - Longmire/Paradise\\' \\' Salmon La Sac/Teanaway\\' \\' San Juan Islands\\'\\n \\' Seattle-Tacoma Area\\' \\' Selkirk Range\\' \\' Snoqualmie Pass\\'\\n \" Spokane Area/Coeur d\\'Alene\" \\' Squak Mountain\\' \\' Stevens Pass - East\\'\\n \\' Stevens Pass - West\\' \\' Tiger Mountain\\' \\' Tri-Cities\\' \\' Vancouver Area\\'\\n \\' Wenatchee\\' \\' Whidbey Island\\' \\' White Pass/Cowlitz River Valley\\'\\n \\' Yakima\\' \\'NaN\\' \\'AWND\\' \\'DX90\\' \\'FZF0\\' \\'FZF1\\' \\'FZF3\\' \\'FZF4\\' \\'FZF5\\' \\'FZF6\\'\\n \\'FZF8\\' \\'PSUN\\' \\'WDF2\\' \\'WDF5\\' \\'WDMV\\' \\'WSF2\\' \\'WSF5\\'] not in index'",
     "output_type": "error",
     "traceback": [
      "\u001b[0;31m---------------------------------------------------------------------------\u001b[0m",
      "\u001b[0;31mKeyError\u001b[0m                                  Traceback (most recent call last)",
      "\u001b[0;32m<ipython-input-7-b466fe0c9d51>\u001b[0m in \u001b[0;36m<module>\u001b[0;34m()\u001b[0m\n\u001b[0;32m----> 1\u001b[0;31m \u001b[0mpred\u001b[0m \u001b[0;34m=\u001b[0m \u001b[0mtp\u001b[0m\u001b[0;34m.\u001b[0m\u001b[0mpredict\u001b[0m\u001b[0;34m(\u001b[0m\u001b[0mX_test\u001b[0m\u001b[0;34m)\u001b[0m\u001b[0;34m\u001b[0m\u001b[0m\n\u001b[0m",
      "\u001b[0;32m~/projects/Trail_Report/trail_report/build_model/make_all_predictions.py\u001b[0m in \u001b[0;36mpredict\u001b[0;34m(self, X_test)\u001b[0m\n\u001b[1;32m    158\u001b[0m         \u001b[0mpred\u001b[0m \u001b[0;34m=\u001b[0m \u001b[0;34m{\u001b[0m\u001b[0;34m}\u001b[0m\u001b[0;34m\u001b[0m\u001b[0m\n\u001b[1;32m    159\u001b[0m         \u001b[0;32mfor\u001b[0m \u001b[0mcondition\u001b[0m\u001b[0;34m,\u001b[0m \u001b[0mmodel\u001b[0m \u001b[0;32min\u001b[0m \u001b[0mself\u001b[0m\u001b[0;34m.\u001b[0m\u001b[0mpred_models\u001b[0m\u001b[0;34m.\u001b[0m\u001b[0mitems\u001b[0m\u001b[0;34m(\u001b[0m\u001b[0;34m)\u001b[0m\u001b[0;34m:\u001b[0m\u001b[0;34m\u001b[0m\u001b[0m\n\u001b[0;32m--> 160\u001b[0;31m             \u001b[0mpred\u001b[0m\u001b[0;34m[\u001b[0m\u001b[0mcondition\u001b[0m\u001b[0;34m]\u001b[0m \u001b[0;34m=\u001b[0m \u001b[0mmodel\u001b[0m\u001b[0;34m.\u001b[0m\u001b[0mpredict_proba\u001b[0m\u001b[0;34m(\u001b[0m\u001b[0mX_test\u001b[0m\u001b[0;34m[\u001b[0m\u001b[0mself\u001b[0m\u001b[0;34m.\u001b[0m\u001b[0mactual_cols\u001b[0m\u001b[0;34m]\u001b[0m\u001b[0;34m)\u001b[0m\u001b[0;34m\u001b[0m\u001b[0m\n\u001b[0m\u001b[1;32m    161\u001b[0m         \u001b[0;32mreturn\u001b[0m \u001b[0mpred\u001b[0m\u001b[0;34m\u001b[0m\u001b[0m\n\u001b[1;32m    162\u001b[0m \u001b[0;34m\u001b[0m\u001b[0m\n",
      "\u001b[0;32m~/anaconda3/lib/python3.6/site-packages/pandas/core/frame.py\u001b[0m in \u001b[0;36m__getitem__\u001b[0;34m(self, key)\u001b[0m\n\u001b[1;32m   2131\u001b[0m         \u001b[0;32mif\u001b[0m \u001b[0misinstance\u001b[0m\u001b[0;34m(\u001b[0m\u001b[0mkey\u001b[0m\u001b[0;34m,\u001b[0m \u001b[0;34m(\u001b[0m\u001b[0mSeries\u001b[0m\u001b[0;34m,\u001b[0m \u001b[0mnp\u001b[0m\u001b[0;34m.\u001b[0m\u001b[0mndarray\u001b[0m\u001b[0;34m,\u001b[0m \u001b[0mIndex\u001b[0m\u001b[0;34m,\u001b[0m \u001b[0mlist\u001b[0m\u001b[0;34m)\u001b[0m\u001b[0;34m)\u001b[0m\u001b[0;34m:\u001b[0m\u001b[0;34m\u001b[0m\u001b[0m\n\u001b[1;32m   2132\u001b[0m             \u001b[0;31m# either boolean or fancy integer index\u001b[0m\u001b[0;34m\u001b[0m\u001b[0;34m\u001b[0m\u001b[0m\n\u001b[0;32m-> 2133\u001b[0;31m             \u001b[0;32mreturn\u001b[0m \u001b[0mself\u001b[0m\u001b[0;34m.\u001b[0m\u001b[0m_getitem_array\u001b[0m\u001b[0;34m(\u001b[0m\u001b[0mkey\u001b[0m\u001b[0;34m)\u001b[0m\u001b[0;34m\u001b[0m\u001b[0m\n\u001b[0m\u001b[1;32m   2134\u001b[0m         \u001b[0;32melif\u001b[0m \u001b[0misinstance\u001b[0m\u001b[0;34m(\u001b[0m\u001b[0mkey\u001b[0m\u001b[0;34m,\u001b[0m \u001b[0mDataFrame\u001b[0m\u001b[0;34m)\u001b[0m\u001b[0;34m:\u001b[0m\u001b[0;34m\u001b[0m\u001b[0m\n\u001b[1;32m   2135\u001b[0m             \u001b[0;32mreturn\u001b[0m \u001b[0mself\u001b[0m\u001b[0;34m.\u001b[0m\u001b[0m_getitem_frame\u001b[0m\u001b[0;34m(\u001b[0m\u001b[0mkey\u001b[0m\u001b[0;34m)\u001b[0m\u001b[0;34m\u001b[0m\u001b[0m\n",
      "\u001b[0;32m~/anaconda3/lib/python3.6/site-packages/pandas/core/frame.py\u001b[0m in \u001b[0;36m_getitem_array\u001b[0;34m(self, key)\u001b[0m\n\u001b[1;32m   2175\u001b[0m             \u001b[0;32mreturn\u001b[0m \u001b[0mself\u001b[0m\u001b[0;34m.\u001b[0m\u001b[0m_take\u001b[0m\u001b[0;34m(\u001b[0m\u001b[0mindexer\u001b[0m\u001b[0;34m,\u001b[0m \u001b[0maxis\u001b[0m\u001b[0;34m=\u001b[0m\u001b[0;36m0\u001b[0m\u001b[0;34m,\u001b[0m \u001b[0mconvert\u001b[0m\u001b[0;34m=\u001b[0m\u001b[0;32mFalse\u001b[0m\u001b[0;34m)\u001b[0m\u001b[0;34m\u001b[0m\u001b[0m\n\u001b[1;32m   2176\u001b[0m         \u001b[0;32melse\u001b[0m\u001b[0;34m:\u001b[0m\u001b[0;34m\u001b[0m\u001b[0m\n\u001b[0;32m-> 2177\u001b[0;31m             \u001b[0mindexer\u001b[0m \u001b[0;34m=\u001b[0m \u001b[0mself\u001b[0m\u001b[0;34m.\u001b[0m\u001b[0mloc\u001b[0m\u001b[0;34m.\u001b[0m\u001b[0m_convert_to_indexer\u001b[0m\u001b[0;34m(\u001b[0m\u001b[0mkey\u001b[0m\u001b[0;34m,\u001b[0m \u001b[0maxis\u001b[0m\u001b[0;34m=\u001b[0m\u001b[0;36m1\u001b[0m\u001b[0;34m)\u001b[0m\u001b[0;34m\u001b[0m\u001b[0m\n\u001b[0m\u001b[1;32m   2178\u001b[0m             \u001b[0;32mreturn\u001b[0m \u001b[0mself\u001b[0m\u001b[0;34m.\u001b[0m\u001b[0m_take\u001b[0m\u001b[0;34m(\u001b[0m\u001b[0mindexer\u001b[0m\u001b[0;34m,\u001b[0m \u001b[0maxis\u001b[0m\u001b[0;34m=\u001b[0m\u001b[0;36m1\u001b[0m\u001b[0;34m,\u001b[0m \u001b[0mconvert\u001b[0m\u001b[0;34m=\u001b[0m\u001b[0;32mTrue\u001b[0m\u001b[0;34m)\u001b[0m\u001b[0;34m\u001b[0m\u001b[0m\n\u001b[1;32m   2179\u001b[0m \u001b[0;34m\u001b[0m\u001b[0m\n",
      "\u001b[0;32m~/anaconda3/lib/python3.6/site-packages/pandas/core/indexing.py\u001b[0m in \u001b[0;36m_convert_to_indexer\u001b[0;34m(self, obj, axis, is_setter)\u001b[0m\n\u001b[1;32m   1267\u001b[0m                 \u001b[0;32mif\u001b[0m \u001b[0mmask\u001b[0m\u001b[0;34m.\u001b[0m\u001b[0many\u001b[0m\u001b[0;34m(\u001b[0m\u001b[0;34m)\u001b[0m\u001b[0;34m:\u001b[0m\u001b[0;34m\u001b[0m\u001b[0m\n\u001b[1;32m   1268\u001b[0m                     raise KeyError('{mask} not in index'\n\u001b[0;32m-> 1269\u001b[0;31m                                    .format(mask=objarr[mask]))\n\u001b[0m\u001b[1;32m   1270\u001b[0m \u001b[0;34m\u001b[0m\u001b[0m\n\u001b[1;32m   1271\u001b[0m                 \u001b[0;32mreturn\u001b[0m \u001b[0m_values_from_object\u001b[0m\u001b[0;34m(\u001b[0m\u001b[0mindexer\u001b[0m\u001b[0;34m)\u001b[0m\u001b[0;34m\u001b[0m\u001b[0m\n",
      "\u001b[0;31mKeyError\u001b[0m: '[\\'Coast\\' \\'Dogs not allowed\\' \\'Fall foilage\\' \\'Waterfalls\\'\\n \\'Backcountry camping permit. Register in person at ranger station (no fee)\\'\\n \\'Discover Pass\\' \\'Discover Pass, Sno-Parks Permit\\' \\'National Monument Fee\\'\\n \\'National Monument Fee, Sno-Parks Permit\\' \\'National Park Pass\\' \\'None\\'\\n \\'None, Northwest Forest Pass\\' \\'Northwest Forest Pass, Sno-Parks Permit\\'\\n \\'Oregon State Parks Day-Use\\' \\'Refuge Entrance Pass\\' \\'Sno-Parks Permit\\'\\n \\'Wilderness permit. Self-issue at trailhead (no fee)\\' \\' Bellingham Area\\'\\n \\' Blewett Pass\\' \\' Chinook Pass - Hwy 410\\' \\' Cle Elum Area\\'\\n \\' Columbia River Gorge - OR\\' \\' Columbia River Gorge - WA\\'\\n \\' Cougar Mountain\\' \\' Dark Divide\\' \\' Entiat Mountains/Lake Chelan\\'\\n \\' Goat Rocks\\' \\' Grand Coulee\\' \\' Hood Canal\\' \\' Kitsap Peninsula\\'\\n \\' Leavenworth Area\\' \\' Lewis River Region\\' \\' Long Beach Area\\'\\n \\' Methow/Sawtooth\\' \\' Mount Adams Area\\' \\' Mount Baker Area\\'\\n \\' Mount St. Helens\\' \\' Mountain Loop Highway\\' \\' NE - Sunrise/White River\\'\\n \\' North Bend Area\\' \\' North Cascades Highway - Hwy 20\\' \\' Northern Coast\\'\\n \\' Okanogan Highlands/Kettle River Range\\' \\' Olympia\\' \\' Orcas Island\\'\\n \\' Pacific Coast\\' \\' Palouse and Blue Mountains\\' \\' Pasayten\\'\\n \\' Potholes Region\\' \" SE - Cayuse Pass/Steven\\'s Canyon\"\\n \\' SW - Longmire/Paradise\\' \\' Salmon La Sac/Teanaway\\' \\' San Juan Islands\\'\\n \\' Seattle-Tacoma Area\\' \\' Selkirk Range\\' \\' Snoqualmie Pass\\'\\n \" Spokane Area/Coeur d\\'Alene\" \\' Squak Mountain\\' \\' Stevens Pass - East\\'\\n \\' Stevens Pass - West\\' \\' Tiger Mountain\\' \\' Tri-Cities\\' \\' Vancouver Area\\'\\n \\' Wenatchee\\' \\' Whidbey Island\\' \\' White Pass/Cowlitz River Valley\\'\\n \\' Yakima\\' \\'NaN\\' \\'AWND\\' \\'DX90\\' \\'FZF0\\' \\'FZF1\\' \\'FZF3\\' \\'FZF4\\' \\'FZF5\\' \\'FZF6\\'\\n \\'FZF8\\' \\'PSUN\\' \\'WDF2\\' \\'WDF5\\' \\'WDMV\\' \\'WSF2\\' \\'WSF5\\'] not in index'"
     ]
    }
   ],
   "source": [
    "pred = tp.predict(X_test)"
   ]
  },
  {
   "cell_type": "code",
   "execution_count": null,
   "metadata": {
    "collapsed": true
   },
   "outputs": [],
   "source": []
  }
 ],
 "metadata": {
  "kernelspec": {
   "display_name": "Python 3",
   "language": "python",
   "name": "python3"
  },
  "language_info": {
   "codemirror_mode": {
    "name": "ipython",
    "version": 3
   },
   "file_extension": ".py",
   "mimetype": "text/x-python",
   "name": "python",
   "nbconvert_exporter": "python",
   "pygments_lexer": "ipython3",
   "version": "3.6.3"
  }
 },
 "nbformat": 4,
 "nbformat_minor": 2
}
